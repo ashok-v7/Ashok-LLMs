{
 "cells": [
  {
   "cell_type": "markdown",
   "metadata": {},
   "source": [
    "# HUGGING FACE -- "
   ]
  },
  {
   "cell_type": "code",
   "execution_count": null,
   "metadata": {},
   "outputs": [],
   "source": [
    "\n",
    "from huggingface_hub import HfApi"
   ]
  },
  {
   "cell_type": "code",
   "execution_count": 3,
   "metadata": {},
   "outputs": [
    {
     "data": {
      "text/plain": [
       "True"
      ]
     },
     "execution_count": 3,
     "metadata": {},
     "output_type": "execute_result"
    }
   ],
   "source": [
    "from dotenv import load_dotenv\n",
    "load_dotenv()"
   ]
  },
  {
   "cell_type": "code",
   "execution_count": 5,
   "metadata": {},
   "outputs": [
    {
     "name": "stdout",
     "output_type": "stream",
     "text": [
      "Model ID: deepseek-ai/DeepSeek-V3-0324\n",
      "Model Name: deepseek-ai/DeepSeek-V3-0324\n",
      "Pipeline Tag: text-generation\n",
      "Tags: ['transformers', 'safetensors', 'deepseek_v3', 'text-generation', 'conversational', 'custom_code', 'arxiv:2412.19437', 'license:mit', 'autotrain_compatible', 'fp8', 'region:us']\n",
      "--------------------------------------------------------------------------------\n",
      "\n",
      "\n",
      "Model ID: ds4sd/SmolDocling-256M-preview\n",
      "Model Name: ds4sd/SmolDocling-256M-preview\n",
      "Pipeline Tag: image-text-to-text\n",
      "Tags: ['transformers', 'onnx', 'safetensors', 'idefics3', 'image-text-to-text', 'conversational', 'en', 'arxiv:2503.11576', 'arxiv:2305.03393', 'base_model:HuggingFaceTB/SmolVLM-256M-Instruct', 'base_model:quantized:HuggingFaceTB/SmolVLM-256M-Instruct', 'license:cdla-permissive-2.0', 'endpoints_compatible', 'region:us']\n",
      "--------------------------------------------------------------------------------\n",
      "\n",
      "\n",
      "Model ID: manycore-research/SpatialLM-Llama-1B\n",
      "Model Name: manycore-research/SpatialLM-Llama-1B\n",
      "Pipeline Tag: text-generation\n",
      "Tags: ['transformers', 'safetensors', 'spatiallm_llama', 'text-generation', 'conversational', 'base_model:meta-llama/Llama-3.2-1B-Instruct', 'base_model:finetune:meta-llama/Llama-3.2-1B-Instruct', 'license:llama3.2', 'autotrain_compatible', 'endpoints_compatible', 'region:us']\n",
      "--------------------------------------------------------------------------------\n",
      "\n",
      "\n",
      "Model ID: mistralai/Mistral-Small-3.1-24B-Instruct-2503\n",
      "Model Name: mistralai/Mistral-Small-3.1-24B-Instruct-2503\n",
      "Pipeline Tag: image-text-to-text\n",
      "Tags: ['vllm', 'safetensors', 'mistral3', 'image-text-to-text', 'conversational', 'en', 'fr', 'de', 'es', 'pt', 'it', 'ja', 'ko', 'ru', 'zh', 'ar', 'fa', 'id', 'ms', 'ne', 'pl', 'ro', 'sr', 'sv', 'tr', 'uk', 'vi', 'hi', 'bn', 'base_model:mistralai/Mistral-Small-3.1-24B-Base-2503', 'base_model:finetune:mistralai/Mistral-Small-3.1-24B-Base-2503', 'license:apache-2.0', 'region:us']\n",
      "--------------------------------------------------------------------------------\n",
      "\n",
      "\n",
      "Model ID: sesame/csm-1b\n",
      "Model Name: sesame/csm-1b\n",
      "Pipeline Tag: text-to-speech\n",
      "Tags: ['safetensors', 'model_hub_mixin', 'pytorch_model_hub_mixin', 'text-to-speech', 'en', 'license:apache-2.0', 'region:us']\n",
      "--------------------------------------------------------------------------------\n",
      "\n",
      "\n",
      "Model ID: canopylabs/orpheus-3b-0.1-ft\n",
      "Model Name: canopylabs/orpheus-3b-0.1-ft\n",
      "Pipeline Tag: text-to-speech\n",
      "Tags: ['transformers', 'safetensors', 'llama', 'text-generation', 'text-to-speech', 'en', 'base_model:canopylabs/orpheus-3b-0.1-pretrained', 'base_model:finetune:canopylabs/orpheus-3b-0.1-pretrained', 'license:apache-2.0', 'autotrain_compatible', 'text-generation-inference', 'endpoints_compatible', 'region:us']\n",
      "--------------------------------------------------------------------------------\n",
      "\n",
      "\n",
      "Model ID: ByteDance/InfiniteYou\n",
      "Model Name: ByteDance/InfiniteYou\n",
      "Pipeline Tag: text-to-image\n",
      "Tags: ['diffusers', 'onnx', 'safetensors', 'Text-to-Image', 'FLUX.1-dev', 'image-generation', 'Diffusion-Transformer', 'subject-personalization', 'text-to-image', 'en', 'arxiv:2503.16418', 'base_model:black-forest-labs/FLUX.1-dev', 'base_model:quantized:black-forest-labs/FLUX.1-dev', 'license:cc-by-nc-4.0', 'region:us']\n",
      "--------------------------------------------------------------------------------\n",
      "\n",
      "\n",
      "Model ID: tencent/Hunyuan3D-2mv\n",
      "Model Name: tencent/Hunyuan3D-2mv\n",
      "Pipeline Tag: image-to-3d\n",
      "Tags: ['hunyuan3d-2', 'image-to-3d', 'text-to-3d', 'en', 'zh', 'arxiv:2501.12202', 'arxiv:2411.02293', 'license:other', 'region:us']\n",
      "--------------------------------------------------------------------------------\n",
      "\n",
      "\n",
      "Model ID: starvector/starvector-8b-im2svg\n",
      "Model Name: starvector/starvector-8b-im2svg\n",
      "Pipeline Tag: text-generation\n",
      "Tags: ['transformers', 'safetensors', 'starvector', 'text-generation', 'custom_code', 'en', 'arxiv:2312.11556', 'license:apache-2.0', 'autotrain_compatible', 'region:us']\n",
      "--------------------------------------------------------------------------------\n",
      "\n",
      "\n"
     ]
    }
   ],
   "source": [
    "# Initialize the Hugging Face API\n",
    "api = HfApi()\n",
    "\n",
    "# Fetch the list of models\n",
    "models = api.list_models()\n",
    "\n",
    "num =1 \n",
    "# Print details of the models\n",
    "for model in models:\n",
    "    print(f\"Model ID: {model.modelId}\")\n",
    "    print(f\"Model Name: {model.modelId}\")\n",
    "    print(f\"Pipeline Tag: {model.pipeline_tag}\")\n",
    "    print(f\"Tags: {model.tags}\")\n",
    "    print(\"-\" * 80)\n",
    "    num += 1\n",
    "    print(\"\\n\")\n",
    "    if num == 10:\n",
    "        break;\n",
    " \n"
   ]
  }
 ],
 "metadata": {
  "kernelspec": {
   "display_name": "Python 3",
   "language": "python",
   "name": "python3"
  },
  "language_info": {
   "codemirror_mode": {
    "name": "ipython",
    "version": 3
   },
   "file_extension": ".py",
   "mimetype": "text/x-python",
   "name": "python",
   "nbconvert_exporter": "python",
   "pygments_lexer": "ipython3",
   "version": "3.10.0"
  }
 },
 "nbformat": 4,
 "nbformat_minor": 2
}
