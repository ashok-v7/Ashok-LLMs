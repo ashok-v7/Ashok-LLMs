{
 "cells": [
  {
   "cell_type": "code",
   "execution_count": 3,
   "metadata": {},
   "outputs": [],
   "source": [
    " \n",
    "import openai\n",
    "import os\n",
    "\n",
    "# Set your OpenAI API key\n",
    "openai.api_key = os.getenv('OPENAI_KEY')\n",
    "\n",
    "# Define a formatted prompt\n",
    "prompt = \"\"\"\n",
    "Generate a brief summary for the following text:\n",
    "\n",
    "Text: \"Artificial intelligence (AI) is intelligence demonstrated by machines, in contrast to the natural intelligence displayed by humans and animals. Leading AI textbooks define the field as the study of 'intelligent agents': any device that perceives its environment and takes actions that maximize its chance of successfully achieving its goals.\"\n",
    "\n",
    "Summary:\n",
    "\"\"\"\n"
   ]
  },
  {
   "cell_type": "code",
   "execution_count": 4,
   "metadata": {},
   "outputs": [
    {
     "name": "stdout",
     "output_type": "stream",
     "text": [
      "Generated Summary:\n",
      "Artificial intelligence (AI) is the intelligence exhibited by machines, as opposed to natural intelligence displayed by humans and animals. It involves the study of intelligent agents, which are devices that perceive their environment and take actions to achieve their goals effectively.\n"
     ]
    }
   ],
   "source": [
    "\n",
    "# Make a request to the OpenAI API using the new ChatCompletion method\n",
    "response = openai.chat.completions.create(\n",
    "    model=\"gpt-3.5-turbo\",  # Use a suitable chat model\n",
    "    messages=[{\"role\": \"user\", \"content\": prompt}],\n",
    "    max_tokens=50,  # Limit the response length\n",
    "    temperature=0.7,  # Control the randomness of the response\n",
    "    n=1,  # Number of responses to generate\n",
    "    stop=None  # Define a stopping sequence if needed\n",
    ")\n",
    "\n",
    "# Extract and print the response text\n",
    "summary = response.choices[0].message.content.strip()  # Access content directly\n",
    "print(f\"Generated Summary:\\n{summary}\")"
   ]
  }
 ],
 "metadata": {
  "kernelspec": {
   "display_name": "Python 3",
   "language": "python",
   "name": "python3"
  },
  "language_info": {
   "codemirror_mode": {
    "name": "ipython",
    "version": 3
   },
   "file_extension": ".py",
   "mimetype": "text/x-python",
   "name": "python",
   "nbconvert_exporter": "python",
   "pygments_lexer": "ipython3",
   "version": "3.10.0"
  }
 },
 "nbformat": 4,
 "nbformat_minor": 2
}
