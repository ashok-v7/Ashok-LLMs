{
 "cells": [
  {
   "cell_type": "code",
   "execution_count": 1,
   "metadata": {},
   "outputs": [],
   "source": [
    "\n",
    "import openai\n",
    "import os\n",
    "\n",
    "from openai import OpenAI"
   ]
  },
  {
   "cell_type": "code",
   "execution_count": 2,
   "metadata": {},
   "outputs": [],
   "source": [
    "\n",
    "messages = [{\"role\": \"system\", \"content\": \"You are a helpful assistant.\"},]"
   ]
  },
  {
   "cell_type": "code",
   "execution_count": 3,
   "metadata": {},
   "outputs": [],
   "source": [
    "\n",
    "\n",
    "client = OpenAI(\n",
    "    # defaults to os.environ.get(\"OPENAI_API_KEY\")\n",
    "    api_key=os.environ.get(\"OPENAI_KEY\"),\n",
    ")"
   ]
  },
  {
   "cell_type": "code",
   "execution_count": null,
   "metadata": {},
   "outputs": [],
   "source": [
    "# Keep repeating the following\n",
    "while True:\n",
    "    # Prompt user for input\n",
    "    message = input(\"User: \")\n",
    "\n",
    "    # Exit program if user inputs \"quit\"\n",
    "    if message.lower() == \"quit\":\n",
    "      break\n",
    "\n",
    "    # Add each new message to the list\n",
    "    messages.append({\"role\": \"user\", \"content\": message})\n",
    "\n",
    "    # Request gpt-3.5-turbo for chat completion\n",
    "    response = client.chat.completions.create(\n",
    "        model=\"gpt-3.5-turbo\",\n",
    "        messages=messages,\n",
    "        max_tokens= 50\n",
    "    )\n",
    "\n",
    "    # Print the response and add it to the messages list\n",
    "    # Access the choices attribute of the response variable\n",
    "    choices = response.choices\n",
    "\n",
    "    # Get the first choice\n",
    "    first_choice = choices[0]\n",
    "\n",
    "    # Get the message content from the first choice\n",
    "    chat_message = first_choice.message.content\n",
    "\n",
    "    # Print the chat message\n",
    "    print(f\"Bot: {chat_message}\")\n",
    "    messages.append({\"role\": \"assistant\", \"content\": chat_message})"
   ]
  }
 ],
 "metadata": {
  "kernelspec": {
   "display_name": "Python 3",
   "language": "python",
   "name": "python3"
  },
  "language_info": {
   "codemirror_mode": {
    "name": "ipython",
    "version": 3
   },
   "file_extension": ".py",
   "mimetype": "text/x-python",
   "name": "python",
   "nbconvert_exporter": "python",
   "pygments_lexer": "ipython3",
   "version": "3.10.0"
  }
 },
 "nbformat": 4,
 "nbformat_minor": 2
}
