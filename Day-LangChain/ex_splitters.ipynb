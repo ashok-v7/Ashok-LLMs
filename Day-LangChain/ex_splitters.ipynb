{
 "cells": [
  {
   "cell_type": "code",
   "execution_count": 4,
   "metadata": {},
   "outputs": [
    {
     "name": "stdout",
     "output_type": "stream",
     "text": [
      "['LangChain is an AI framework. It helps developers build LLM-based applications. The CharacterTextSplitter is useful.']\n"
     ]
    }
   ],
   "source": [
    "from langchain.text_splitter import CharacterTextSplitter\n",
    "\n",
    "# Sample long text\n",
    "text = \"LangChain is an AI framework. It helps developers build LLM-based applications. The CharacterTextSplitter is useful.\"\n",
    "\n",
    "# # Initialize splitter with chunk size 50 and overlap 10\n",
    "# splitter = CharacterTextSplitter(chunk_size=50, chunk_overlap=10)\n",
    "\n",
    "# # Split the text\n",
    "# chunks = splitter.split_text(text)\n",
    "\n",
    "# Print results using * (star) method to unpack chunks\n",
    "#   \n",
    "cr_splitter = CharacterTextSplitter(\n",
    "    chunk_size=50,\n",
    "    chunk_overlap=10,\n",
    "    separator=\"\\n\"\n",
    ")\n",
    "print(cr_splitter.split_text(text))\n"
   ]
  }
 ],
 "metadata": {
  "kernelspec": {
   "display_name": "Python 3",
   "language": "python",
   "name": "python3"
  },
  "language_info": {
   "codemirror_mode": {
    "name": "ipython",
    "version": 3
   },
   "file_extension": ".py",
   "mimetype": "text/x-python",
   "name": "python",
   "nbconvert_exporter": "python",
   "pygments_lexer": "ipython3",
   "version": "3.10.0"
  }
 },
 "nbformat": 4,
 "nbformat_minor": 2
}
