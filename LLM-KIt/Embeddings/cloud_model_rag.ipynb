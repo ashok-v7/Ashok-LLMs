{
 "cells": [
  {
   "cell_type": "code",
   "execution_count": 1,
   "metadata": {},
   "outputs": [],
   "source": [
    "from langchain_openai import ChatOpenAI\n",
    "from langchain_community.vectorstores import Chroma\n",
    "from langchain_core.prompts import ChatPromptTemplate\n",
    "from langchain_core.runnables import RunnableParallel,RunnablePassthrough\n",
    "\n",
    "from langchain_community.embeddings import SentenceTransformerEmbeddings\n",
    "from langchain_core.output_parsers import StrOutputParser\n",
    "\n",
    "from langchain_openai import OpenAIEmbeddings\n",
    "import streamlit as st\n",
    " \n",
    "import os\n"
   ]
  },
  {
   "cell_type": "code",
   "execution_count": 2,
   "metadata": {},
   "outputs": [],
   "source": [
    "from dotenv import load_dotenv\n",
    "load_dotenv()\n",
    "token = os.environ[\"GITHUB_TOKEN\"]\n",
    "endpoint = \"https://models.inference.ai.azure.com\"\n",
    "model_name = \"text-embedding-3-small\""
   ]
  },
  {
   "cell_type": "code",
   "execution_count": 3,
   "metadata": {},
   "outputs": [],
   "source": [
    "#used Hugging Face Embeddings\n",
    "# embeddings = SentenceTransformerEmbeddings(model_name='all-MiniLM-L6-v2')\n",
    "\n",
    "# client to take off the embedding model\n",
    "embedddings  = OpenAIEmbeddings(\n",
    "    model = 'text-embedding-3-large',\n",
    "    base_url =endpoint,\n",
    "    api_key = token,\n",
    "\n",
    ")"
   ]
  },
  {
   "cell_type": "code",
   "execution_count": 4,
   "metadata": {},
   "outputs": [],
   "source": [
    "#CLIENT to take care of language model , ChatOpenAI: Initializes a ChatOpenAI model with specific parameters\n",
    "# This model is used to generate responses based on user queries.\n",
    "\n",
    "model = ChatOpenAI(\n",
    "    base_url = \"http://localhost:5272/v1/\",\n",
    "    api_key=\"ai-df\",\n",
    "    model = \"Phi-3-mini-128k-cpu-int4-rtn-block-32-acc-level-4-onnx\",\n",
    "    temperature= 0.7\n",
    "    \n",
    ")"
   ]
  },
  {
   "cell_type": "code",
   "execution_count": 5,
   "metadata": {},
   "outputs": [
    {
     "name": "stderr",
     "output_type": "stream",
     "text": [
      "/tmp/ipykernel_372523/2169804551.py:2: LangChainDeprecationWarning: The class `Chroma` was deprecated in LangChain 0.2.9 and will be removed in 1.0. An updated version of the class exists in the :class:`~langchain-chroma package and should be used instead. To use it run `pip install -U :class:`~langchain-chroma` and import as `from :class:`~langchain_chroma import Chroma``.\n",
      "  load_db = Chroma(persist_directory='./ai-tkt-dir',embedding_function=embedddings)\n"
     ]
    }
   ],
   "source": [
    "#  This line initializes a Chroma vector store by loading it from the specified directory.\n",
    "load_db = Chroma(persist_directory='./ai-tkt-dir',embedding_function=embedddings)\n",
    "\n",
    "# Convert to Retriever:Converts the Chroma vector store into a retriever object.\n",
    "\n",
    "retreiver = load_db.as_retriever(search_kwargs={'k':3})\n",
    "\n",
    "# k - search_kwargs={'k': 3}: Specifies the search parameters for the retriever. In this case, k=3 means that the retriever \n",
    "# will return the top 3 most similar documents for any given query."
   ]
  },
  {
   "cell_type": "markdown",
   "metadata": {},
   "source": [
    "<!-- \n",
    "Introduction: Sets the context for the AI assistant.\n",
    "Relevance: Ensures responses are relevant to the toolkit and the user's query.\n",
    "Avoid Irrelevant Information: Instructs the AI to avoid unrelated information.\n",
    "Professional Tone: Ensures responses are professional, accurate, and helpful.\n",
    "Adhere to User's Question: Instructs the AI to focus on the user's question.\n",
    "Unknown Answers: Provides guidance on how to respond if the AI does not know the answer. -->"
   ]
  },
  {
   "cell_type": "code",
   "execution_count": 6,
   "metadata": {},
   "outputs": [],
   "source": [
    "template = \"\"\" You are a specialized AI assistant for the Microsoft Visual Studio Code AI Toolkit.\\n\n",
    "    Your responses should be strictly relevant to this product and the user's query. \\n\n",
    "    Avoid providing information that is not directly related to the toolkit.\n",
    "    Maintain a professional tone and ensure your responses are accurate and helpful.\n",
    "    Strictly adhere to the user's question and provide relevant information. \n",
    "    If you do not know the answer then respond \"I dont know\".Do not refer to your knowledge base.\n",
    "    {context}\n",
    "    Question:\n",
    "    {question}\n",
    "\"\"\"\n",
    "\n"
   ]
  },
  {
   "cell_type": "code",
   "execution_count": 7,
   "metadata": {},
   "outputs": [],
   "source": [
    "prompt = ChatPromptTemplate.from_template(template)\n",
    "output_parser = StrOutputParser()\n",
    "\n",
    "# RunnableParallel object is created \n",
    "setup_and_retrieval = RunnableParallel(\n",
    "\t    {\"context\": retreiver, \"question\": RunnablePassthrough()}\n",
    ")\n",
    "chain = setup_and_retrieval | prompt | model | output_parser"
   ]
  },
  {
   "cell_type": "code",
   "execution_count": 8,
   "metadata": {},
   "outputs": [
    {
     "name": "stderr",
     "output_type": "stream",
     "text": [
      "Number of requested results 3 is greater than number of elements in index 2, updating n_results = 2\n"
     ]
    },
    {
     "name": "stdout",
     "output_type": "stream",
     "text": [
      " The VS AI Toolkit is an extension for Visual Studio Code. It provides features to download, test, fine-tune, and deploy AI models. You can use it either within your applications or in the cloud.\n"
     ]
    }
   ],
   "source": [
    "query=input(\"Enter your query:\")\n",
    "resp=chain.invoke(query)\n",
    "print(resp)"
   ]
  }
 ],
 "metadata": {
  "kernelspec": {
   "display_name": "Python 3",
   "language": "python",
   "name": "python3"
  },
  "language_info": {
   "codemirror_mode": {
    "name": "ipython",
    "version": 3
   },
   "file_extension": ".py",
   "mimetype": "text/x-python",
   "name": "python",
   "nbconvert_exporter": "python",
   "pygments_lexer": "ipython3",
   "version": "3.10.0"
  }
 },
 "nbformat": 4,
 "nbformat_minor": 2
}
