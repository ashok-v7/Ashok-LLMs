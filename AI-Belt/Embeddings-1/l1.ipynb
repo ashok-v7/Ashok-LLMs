{
 "cells": [
  {
   "cell_type": "code",
   "execution_count": 4,
   "metadata": {},
   "outputs": [
    {
     "name": "stdout",
     "output_type": "stream",
     "text": [
      "['LangChain is a powerful framework for building LLM applications. It helps with integrating various components like LLMs, retrievers, memory, and agents.\\nChunking is crucial when processing large documents to handle token limits and improve efficiency.\\nWithout chunking, LLMs may fail to process long inputs.']\n",
      "LangChain is a powerful framework for building LLM applications. It helps with integrating various components like LLMs, retrievers, memory, and agents.\n",
      "Chunking is crucial when processing large documents to handle token limits and improve efficiency.\n",
      "Without chunking, LLMs may fail to process long inputs.\n"
     ]
    }
   ],
   "source": [
    "from langchain.text_splitter import CharacterTextSplitter\n",
    "\n",
    "# Large Document (Simulated)\n",
    "large_text = \"\"\"\n",
    "LangChain is a powerful framework for building LLM applications. It helps with integrating various components like LLMs, retrievers, memory, and agents.\n",
    "Chunking is crucial when processing large documents to handle token limits and improve efficiency.\n",
    "Without chunking, LLMs may fail to process long inputs.\n",
    "\"\"\"\n",
    "\n",
    "# Step 1: Initialize a Text Splitter (Character-Based)\n",
    "splitter = CharacterTextSplitter(chunk_size=50, chunk_overlap=20)\n",
    "\n",
    "# Step 2: Split the Large Text into Chunks\n",
    "chunks = splitter.split_text(large_text)\n",
    "\n",
    "print(chunks)\n",
    "\n",
    "# Step 3: Use * to Unpack and Print Chunks\n",
    "print(*chunks, sep=\"\\n\")"
   ]
  }
 ],
 "metadata": {
  "kernelspec": {
   "display_name": "Python 3",
   "language": "python",
   "name": "python3"
  },
  "language_info": {
   "codemirror_mode": {
    "name": "ipython",
    "version": 3
   },
   "file_extension": ".py",
   "mimetype": "text/x-python",
   "name": "python",
   "nbconvert_exporter": "python",
   "pygments_lexer": "ipython3",
   "version": "3.10.0"
  }
 },
 "nbformat": 4,
 "nbformat_minor": 2
}
